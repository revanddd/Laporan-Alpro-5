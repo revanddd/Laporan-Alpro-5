{
 "cells": [
  {
   "cell_type": "code",
   "execution_count": 1,
   "metadata": {},
   "outputs": [
    {
     "name": "stdout",
     "output_type": "stream",
     "text": [
      "6 x 5 = 6 + 6 + 6 + 6 + 6 = 30\n",
      "7 x 10 = 7 + 7 + 7 + 7 + 7 + 7 + 7 + 7 + 7 + 7 = 70\n"
     ]
    }
   ],
   "source": [
    "def perkalian(a, b):\n",
    "    hasil = 0\n",
    "    for i in range(b):\n",
    "        hasil += a\n",
    "    return hasil\n",
    "\n",
    "angka1 = 6\n",
    "angka2 = 5\n",
    "hasil_perkalian = perkalian(angka1, angka2)\n",
    "print(f\"{angka1} x {angka2} =\", end=\" \")\n",
    "print(\" + \".join(str(angka1) for _ in range(angka2)), end=\" \")\n",
    "print(\"=\", hasil_perkalian)\n",
    "\n",
    "angka1 = 7\n",
    "angka2 = 10\n",
    "hasil_perkalian = perkalian(angka1, angka2)\n",
    "print(f\"{angka1} x {angka2} =\", end=\" \")\n",
    "print(\" + \".join(str(angka1) for _ in range(angka2)), end=\" \")\n",
    "print(\"=\", hasil_perkalian)\n",
    "\n"
   ]
  },
  {
   "cell_type": "code",
   "execution_count": 1,
   "metadata": {},
   "outputs": [
    {
     "name": "stdout",
     "output_type": "stream",
     "text": [
      "Deret bilangan ganjil:\n",
      "11 13 15 17 19 21 23 25 27 29 "
     ]
    }
   ],
   "source": [
    "def ganjil(bawah, atas):\n",
    "    if bawah < atas:\n",
    "        for num in range(bawah, atas + 1):\n",
    "            if num % 2 != 0:\n",
    "                print(num, end=' ')\n",
    "    else:\n",
    "        for num in range(bawah, atas - 1):\n",
    "            if num % 2 != 0:\n",
    "                print(num, end=' ')\n",
    "\n",
    "bawah = 10\n",
    "atas = 30\n",
    "\n",
    "print(\"Deret bilangan ganjil:\")\n",
    "ganjil(bawah, atas)"
   ]
  },
  {
   "cell_type": "code",
   "execution_count": 4,
   "metadata": {},
   "outputs": [
    {
     "name": "stdout",
     "output_type": "stream",
     "text": [
      "Deret bilangan ganjil:\n",
      "97 95 93 91 89 87 85 83 "
     ]
    }
   ],
   "source": [
    "def ganjil(bawah, atas):\n",
    "    if bawah < atas:\n",
    "        for num in range(bawah, atas + 1):\n",
    "            if num % 2 != 0:\n",
    "                print(num, end=' ')\n",
    "    else:\n",
    "        for num in range(bawah, atas - 1, -1):\n",
    "            if num % 2 != 0:\n",
    "                print(num, end=' ')\n",
    "\n",
    "bawah = 97\n",
    "atas = 82\n",
    "\n",
    "print(\"Deret bilangan ganjil:\")\n",
    "ganjil(bawah, atas)"
   ]
  },
  {
   "cell_type": "code",
   "execution_count": 6,
   "metadata": {},
   "outputs": [
    {
     "name": "stdout",
     "output_type": "stream",
     "text": [
      "Indeks Prestasi Semester (IPS) Anda adalah: 3.4\n"
     ]
    }
   ],
   "source": [
    "def hitung_ips(jumlah_matkul):\n",
    "    bobot_nilai = {'A': 4, 'B': 3, 'C': 2, 'D': 1}\n",
    "    total_sks = jumlah_matkul * 3\n",
    "    total_bobot = 0\n",
    "\n",
    "    for i in range(1, jumlah_matkul + 1):\n",
    "        nilai = input(f\"Masukkan nilai mata kuliah ke-{i} (A/B/C/D): \").upper()\n",
    "        if nilai in bobot_nilai:\n",
    "            total_bobot += bobot_nilai[nilai] * 3\n",
    "        else:\n",
    "            print(\"Input nilai tidak valid. Silakan masukkan nilai A, B, C, atau D.\")\n",
    "\n",
    "    ips = total_bobot / total_sks\n",
    "    return ips\n",
    "\n",
    "jumlah_matkul = int(input(\"Masukkan jumlah mata kuliah: \"))\n",
    "ips = hitung_ips(jumlah_matkul)\n",
    "print(\"Indeks Prestasi Semester (IPS) Anda adalah:\", ips)"
   ]
  }
 ],
 "metadata": {
  "kernelspec": {
   "display_name": "Python 3",
   "language": "python",
   "name": "python3"
  },
  "language_info": {
   "codemirror_mode": {
    "name": "ipython",
    "version": 3
   },
   "file_extension": ".py",
   "mimetype": "text/x-python",
   "name": "python",
   "nbconvert_exporter": "python",
   "pygments_lexer": "ipython3",
   "version": "3.12.0"
  }
 },
 "nbformat": 4,
 "nbformat_minor": 2
}
